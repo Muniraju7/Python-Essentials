{
  "nbformat": 4,
  "nbformat_minor": 0,
  "metadata": {
    "colab": {
      "name": "Day4 ass.ipynb",
      "provenance": [],
      "collapsed_sections": []
    },
    "kernelspec": {
      "name": "python3",
      "display_name": "Python 3"
    }
  },
  "cells": [
    {
      "cell_type": "code",
      "metadata": {
        "id": "3YhjSQZwBAmo",
        "colab_type": "code",
        "colab": {
          "base_uri": "https://localhost:8080/",
          "height": 102
        },
        "outputId": "3a855007-4961-444e-fcc1-77e7da38be59"
      },
      "source": [
        "Number = int(input(\"\\nPlease Enter the Number to Check for Armstrong: \"))\n",
        "\n",
        "# Initializing Sum and Number of Digits\n",
        "Sum = 0\n",
        "Times = 0\n",
        "           \n",
        "# Calculating Number of individual digits\n",
        "Temp = Number\n",
        "while Temp > 0:\n",
        "           Times = Times + 1\n",
        "           Temp = Temp // 10\n",
        "\n",
        "# Finding Armstrong Number\n",
        "Temp = Number\n",
        "while Temp > 0:\n",
        "           Reminder = Temp % 10\n",
        "           Sum = Sum + (Reminder ** Times)\n",
        "           Temp //= 10\n",
        "if Number == Sum:\n",
        "           print(\"\\n %d is Armstrong Number.\\n\" %Number)\n",
        "else:\n",
        "           print(\"\\n %d is Not a Armstrong Number.\\n\" %Number)"
      ],
      "execution_count": null,
      "outputs": [
        {
          "output_type": "stream",
          "text": [
            "\n",
            "Please Enter the Number to Check for Armstrong: 1042000\n",
            "\n",
            " 1042000 is Not a Armstrong Number.\n",
            "\n"
          ],
          "name": "stdout"
        }
      ]
    },
    {
      "cell_type": "code",
      "metadata": {
        "id": "PJYX8c1bDcfp",
        "colab_type": "code",
        "colab": {
          "base_uri": "https://localhost:8080/",
          "height": 102
        },
        "outputId": "cf9f3296-7c52-4f76-aa41-77ab46befdc9"
      },
      "source": [
        "Number = int(input(\"\\nPlease Enter the Number to Check for Armstrong: \"))\n",
        "\n",
        "# Initializing Sum and Number of Digits\n",
        "Sum = 0\n",
        "Times = 0\n",
        "           \n",
        "# Calculating Number of individual digits\n",
        "Temp = Number\n",
        "while Temp > 0:\n",
        "           Times = Times + 1\n",
        "           Temp = Temp // 10\n",
        "\n",
        "# Finding Armstrong Number\n",
        "Temp = Number\n",
        "while Temp > 0:\n",
        "           Reminder = Temp % 10\n",
        "           Sum = Sum + (Reminder ** Times)\n",
        "           Temp //= 10\n",
        "if Number == Sum:\n",
        "           print(\"\\n %d is Armstrong Number.\\n\" %Number)\n",
        "else:\n",
        "           print(\"\\n %d is Not a Armstrong Number.\\n\" %Number)"
      ],
      "execution_count": null,
      "outputs": [
        {
          "output_type": "stream",
          "text": [
            "\n",
            "Please Enter the Number to Check for Armstrong: 702648265\n",
            "\n",
            " 702648265 is Not a Armstrong Number.\n",
            "\n"
          ],
          "name": "stdout"
        }
      ]
    }
  ]
}