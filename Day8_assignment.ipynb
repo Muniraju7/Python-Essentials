{
  "nbformat": 4,
  "nbformat_minor": 0,
  "metadata": {
    "colab": {
      "name": "Day8 assignment",
      "provenance": [],
      "collapsed_sections": []
    },
    "kernelspec": {
      "name": "python3",
      "display_name": "Python 3"
    }
  },
  "cells": [
    {
      "cell_type": "markdown",
      "metadata": {
        "id": "DD0XRDGXTpPB",
        "colab_type": "text"
      },
      "source": [
        "Decorator funcation using fibonacci series funcation\n"
      ]
    },
    {
      "cell_type": "code",
      "metadata": {
        "id": "TVtArDyAT2gY",
        "colab_type": "code",
        "colab": {
          "base_uri": "https://localhost:8080/",
          "height": 34
        },
        "outputId": "cd3caf82-e5ed-46ed-a9c1-433067af094c"
      },
      "source": [
        "def memoize_factorial(f): \n",
        "    memory = {}  \n",
        "    def inner(num): \n",
        "        if num not in memory:          \n",
        "            memory[num] = f(num) \n",
        "        return memory[num] \n",
        "  \n",
        "    return inner \n",
        "def facto(num): \n",
        "    if num == 1: \n",
        "        return 1\n",
        "    else: \n",
        "        return num * facto(num-1) \n",
        "  \n",
        "print(facto(5)) "
      ],
      "execution_count": null,
      "outputs": [
        {
          "output_type": "stream",
          "text": [
            "120\n"
          ],
          "name": "stdout"
        }
      ]
    },
    {
      "cell_type": "markdown",
      "metadata": {
        "id": "FWwNymtsdJ6B",
        "colab_type": "text"
      },
      "source": [
        "Handle the subsequent errors using exception handling"
      ]
    },
    {
      "cell_type": "code",
      "metadata": {
        "id": "8fnYF_MCdTIM",
        "colab_type": "code",
        "colab": {
          "base_uri": "https://localhost:8080/",
          "height": 129
        },
        "outputId": "046a157f-63ba-4384-b706-7ab5e2eb1e53"
      },
      "source": [
        "amount = 10000 \n",
        "if(amount>2999) \n",
        "    print(\"You are eligible to purchase Dsa Self Paced\") \n",
        "     "
      ],
      "execution_count": null,
      "outputs": [
        {
          "output_type": "error",
          "ename": "SyntaxError",
          "evalue": "ignored",
          "traceback": [
            "\u001b[0;36m  File \u001b[0;32m\"<ipython-input-2-c508a8ff7aad>\"\u001b[0;36m, line \u001b[0;32m2\u001b[0m\n\u001b[0;31m    if(amount>2999)\u001b[0m\n\u001b[0m                    ^\u001b[0m\n\u001b[0;31mSyntaxError\u001b[0m\u001b[0;31m:\u001b[0m invalid syntax\n"
          ]
        }
      ]
    },
    {
      "cell_type": "code",
      "metadata": {
        "id": "hKx5M13kdi6D",
        "colab_type": "code",
        "colab": {
          "base_uri": "https://localhost:8080/",
          "height": 214
        },
        "outputId": "c066dcee-323a-46bf-fa84-81507ab66163"
      },
      "source": [
        "marks = 10000\n",
        "  \n",
        "# perform division with 0 \n",
        "a = marks / 0\n",
        "print(a) "
      ],
      "execution_count": null,
      "outputs": [
        {
          "output_type": "error",
          "ename": "ZeroDivisionError",
          "evalue": "ignored",
          "traceback": [
            "\u001b[0;31m---------------------------------------------------------------------------\u001b[0m",
            "\u001b[0;31mZeroDivisionError\u001b[0m                         Traceback (most recent call last)",
            "\u001b[0;32m<ipython-input-3-6a4b923acd32>\u001b[0m in \u001b[0;36m<module>\u001b[0;34m()\u001b[0m\n\u001b[1;32m      2\u001b[0m \u001b[0;34m\u001b[0m\u001b[0m\n\u001b[1;32m      3\u001b[0m \u001b[0;31m# perform division with 0\u001b[0m\u001b[0;34m\u001b[0m\u001b[0;34m\u001b[0m\u001b[0;34m\u001b[0m\u001b[0m\n\u001b[0;32m----> 4\u001b[0;31m \u001b[0ma\u001b[0m \u001b[0;34m=\u001b[0m \u001b[0mmarks\u001b[0m \u001b[0;34m/\u001b[0m \u001b[0;36m0\u001b[0m\u001b[0;34m\u001b[0m\u001b[0;34m\u001b[0m\u001b[0m\n\u001b[0m\u001b[1;32m      5\u001b[0m \u001b[0mprint\u001b[0m\u001b[0;34m(\u001b[0m\u001b[0ma\u001b[0m\u001b[0;34m)\u001b[0m\u001b[0;34m\u001b[0m\u001b[0;34m\u001b[0m\u001b[0m\n",
            "\u001b[0;31mZeroDivisionError\u001b[0m: division by zero"
          ]
        }
      ]
    },
    {
      "cell_type": "code",
      "metadata": {
        "id": "Y1x0_y41dk0L",
        "colab_type": "code",
        "colab": {
          "base_uri": "https://localhost:8080/",
          "height": 129
        },
        "outputId": "c8807208-5163-4250-a894-185bb6b018ea"
      },
      "source": [
        "a = [1, 2, 3] \n",
        "try:  \n",
        "    print \"Second element = %d\" %(a[1]) \n",
        "  \n",
        "    # Throws error since there are only 3 elements in array \n",
        "    print \"Fourth element = %d\" %(a[3])  \n",
        "  \n",
        "except IndexError: \n",
        "    print \"An error occurred\""
      ],
      "execution_count": null,
      "outputs": [
        {
          "output_type": "error",
          "ename": "SyntaxError",
          "evalue": "ignored",
          "traceback": [
            "\u001b[0;36m  File \u001b[0;32m\"<ipython-input-4-4d4818cd2ffb>\"\u001b[0;36m, line \u001b[0;32m3\u001b[0m\n\u001b[0;31m    print \"Second element = %d\" %(a[1])\u001b[0m\n\u001b[0m                              ^\u001b[0m\n\u001b[0;31mSyntaxError\u001b[0m\u001b[0;31m:\u001b[0m invalid syntax\n"
          ]
        }
      ]
    },
    {
      "cell_type": "code",
      "metadata": {
        "id": "VHynk3sEdpPT",
        "colab_type": "code",
        "colab": {
          "base_uri": "https://localhost:8080/",
          "height": 129
        },
        "outputId": "0e0f8c70-8e63-4e69-e7c4-899a542bf10d"
      },
      "source": [
        "try :  \n",
        "    a = 3\n",
        "    if a < 4 : \n",
        "  \n",
        "        # throws ZeroDivisionError for a = 3  \n",
        "        b = a/(a-3) \n",
        "      \n",
        "    # throws NameError if a >= 4 \n",
        "    print \"Value of b = \", b \n",
        "  \n",
        "# note that braces () are necessary here for multiple exceptions \n",
        "except(ZeroDivisionError, NameError): \n",
        "    print \"\\nError Occurred and Handled\""
      ],
      "execution_count": null,
      "outputs": [
        {
          "output_type": "error",
          "ename": "SyntaxError",
          "evalue": "ignored",
          "traceback": [
            "\u001b[0;36m  File \u001b[0;32m\"<ipython-input-5-a33e71743390>\"\u001b[0;36m, line \u001b[0;32m9\u001b[0m\n\u001b[0;31m    print \"Value of b = \", b\u001b[0m\n\u001b[0m                        ^\u001b[0m\n\u001b[0;31mSyntaxError\u001b[0m\u001b[0;31m:\u001b[0m Missing parentheses in call to 'print'. Did you mean print(\"Value of b = \", b)?\n"
          ]
        }
      ]
    },
    {
      "cell_type": "code",
      "metadata": {
        "id": "iwNkqEGldsdT",
        "colab_type": "code",
        "colab": {
          "base_uri": "https://localhost:8080/",
          "height": 129
        },
        "outputId": "b7910551-7287-4010-94f0-a6e31d7ebdbb"
      },
      "source": [
        "def AbyB(a , b): \n",
        "    try: \n",
        "        c = ((a+b) / (a-b)) \n",
        "    except ZeroDivisionError: \n",
        "        print \"a/b result in 0\"\n",
        "    else: \n",
        "        print c \n",
        "  \n",
        "# Driver program to test above function \n",
        "AbyB(2.0, 3.0) \n",
        "AbyB(3.0, 3.0) "
      ],
      "execution_count": null,
      "outputs": [
        {
          "output_type": "error",
          "ename": "SyntaxError",
          "evalue": "ignored",
          "traceback": [
            "\u001b[0;36m  File \u001b[0;32m\"<ipython-input-6-b28e1e6a6dc1>\"\u001b[0;36m, line \u001b[0;32m5\u001b[0m\n\u001b[0;31m    print \"a/b result in 0\"\u001b[0m\n\u001b[0m                          ^\u001b[0m\n\u001b[0;31mSyntaxError\u001b[0m\u001b[0;31m:\u001b[0m Missing parentheses in call to 'print'. Did you mean print(\"a/b result in 0\")?\n"
          ]
        }
      ]
    },
    {
      "cell_type": "code",
      "metadata": {
        "id": "Bx2xnW7vd1Lb",
        "colab_type": "code",
        "colab": {
          "base_uri": "https://localhost:8080/",
          "height": 129
        },
        "outputId": "82f7b656-f3f6-4714-c2d7-2640980a7e2d"
      },
      "source": [
        "try:  \n",
        "    raise NameError(\"Hi there\")  # Raise Error \n",
        "except NameError: \n",
        "    print \"An exception\"\n",
        "    raise  # To determine whether the exception was raised or not "
      ],
      "execution_count": null,
      "outputs": [
        {
          "output_type": "error",
          "ename": "SyntaxError",
          "evalue": "ignored",
          "traceback": [
            "\u001b[0;36m  File \u001b[0;32m\"<ipython-input-7-b0b4b0be3067>\"\u001b[0;36m, line \u001b[0;32m4\u001b[0m\n\u001b[0;31m    print \"An exception\"\u001b[0m\n\u001b[0m                       ^\u001b[0m\n\u001b[0;31mSyntaxError\u001b[0m\u001b[0;31m:\u001b[0m Missing parentheses in call to 'print'. Did you mean print(\"An exception\")?\n"
          ]
        }
      ]
    }
  ]
}