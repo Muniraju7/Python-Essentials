{
  "nbformat": 4,
  "nbformat_minor": 0,
  "metadata": {
    "colab": {
      "name": "Day 9 Assignment",
      "provenance": [],
      "collapsed_sections": []
    },
    "kernelspec": {
      "name": "python3",
      "display_name": "Python 3"
    }
  },
  "cells": [
    {
      "cell_type": "markdown",
      "metadata": {
        "id": "QODoGGCzCdwE",
        "colab_type": "text"
      },
      "source": [
        "Unit testing(prime or not )"
      ]
    },
    {
      "cell_type": "code",
      "metadata": {
        "id": "hjE2qarnCo4L",
        "colab_type": "code",
        "colab": {
          "base_uri": "https://localhost:8080/",
          "height": 350
        },
        "outputId": "33982eb0-10a6-4b23-c3f2-3cdd2e76cdcf"
      },
      "source": [
        "def isPrime(n) : \n",
        "    if (n <= 1) : \n",
        "        return False\n",
        "    if (n <= 3) : \n",
        "        return True \n",
        "    if (n % 2 == 0 or n % 3 == 0) : \n",
        "        return False\n",
        "  \n",
        "    i = 5\n",
        "    while(i * i <= n) : \n",
        "        if (n % i == 0 or n % (i + 2) == 0) : \n",
        "            return False\n",
        "        i = i + 6\n",
        "  \n",
        "    return True\n",
        "if (isPrime(11)) : \n",
        "    print(\" true\") \n",
        "else : \n",
        "    print(\" false\") \n",
        "      \n",
        "if(isPrime(15)) : \n",
        "    print(\" true\") \n",
        "else :  \n",
        "    print(\" false\") \n",
        "\n",
        "if __name__ == '__main__': \n",
        "    unittest.main() \n"
      ],
      "execution_count": null,
      "outputs": [
        {
          "output_type": "stream",
          "text": [
            "E"
          ],
          "name": "stderr"
        },
        {
          "output_type": "stream",
          "text": [
            " true\n",
            " false\n"
          ],
          "name": "stdout"
        },
        {
          "output_type": "stream",
          "text": [
            "\n",
            "======================================================================\n",
            "ERROR: /root/ (unittest.loader._FailedTest)\n",
            "----------------------------------------------------------------------\n",
            "AttributeError: module '__main__' has no attribute '/root/'\n",
            "\n",
            "----------------------------------------------------------------------\n",
            "Ran 1 test in 0.002s\n",
            "\n",
            "FAILED (errors=1)\n"
          ],
          "name": "stderr"
        },
        {
          "output_type": "error",
          "ename": "SystemExit",
          "evalue": "ignored",
          "traceback": [
            "An exception has occurred, use %tb to see the full traceback.\n",
            "\u001b[0;31mSystemExit\u001b[0m\u001b[0;31m:\u001b[0m True\n"
          ]
        },
        {
          "output_type": "stream",
          "text": [
            "/usr/local/lib/python3.6/dist-packages/IPython/core/interactiveshell.py:2890: UserWarning: To exit: use 'exit', 'quit', or Ctrl-D.\n",
            "  warn(\"To exit: use 'exit', 'quit', or Ctrl-D.\", stacklevel=1)\n"
          ],
          "name": "stderr"
        }
      ]
    },
    {
      "cell_type": "markdown",
      "metadata": {
        "id": "JQvAaOwBKj0D",
        "colab_type": "text"
      },
      "source": [
        "Generator objects with armstrong number"
      ]
    },
    {
      "cell_type": "code",
      "metadata": {
        "id": "40qag3YIOikO",
        "colab_type": "code",
        "colab": {
          "base_uri": "https://localhost:8080/",
          "height": 51
        },
        "outputId": "1217a97b-4a5a-4346-bfbe-48144985a995"
      },
      "source": [
        "def isArmstrong(x): \n",
        "      \n",
        "    n = order(x) \n",
        "    temp = x \n",
        "    sum1 = 0\n",
        "      \n",
        "    while (temp != 0): \n",
        "        r = temp % 10\n",
        "        temp = temp // 10\n",
        "  \n",
        "    # If condition satisfies \n",
        "    yield (sum1 == x) \n",
        "  \n",
        "# Driver code \n",
        "x = 1\n",
        "print(isArmstrong(x)) \n",
        "  \n",
        "x = 1000\n",
        "print(isArmstrong(x)) \n",
        "  "
      ],
      "execution_count": null,
      "outputs": [
        {
          "output_type": "stream",
          "text": [
            "<generator object isArmstrong at 0x7f2703f75f68>\n",
            "<generator object isArmstrong at 0x7f2703f75f68>\n"
          ],
          "name": "stdout"
        }
      ]
    }
  ]
}