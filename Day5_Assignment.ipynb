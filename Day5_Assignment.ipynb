{
  "nbformat": 4,
  "nbformat_minor": 0,
  "metadata": {
    "colab": {
      "name": "Day5 Assignment",
      "provenance": [],
      "collapsed_sections": []
    },
    "kernelspec": {
      "name": "python3",
      "display_name": "Python 3"
    }
  },
  "cells": [
    {
      "cell_type": "markdown",
      "metadata": {
        "id": "GAn7NBJ3zNGr",
        "colab_type": "text"
      },
      "source": [
        "prime number1-2500"
      ]
    },
    {
      "cell_type": "code",
      "metadata": {
        "id": "b3oniSrizVa9",
        "colab_type": "code",
        "colab": {
          "base_uri": "https://localhost:8080/",
          "height": 51
        },
        "outputId": "45b6df1a-09be-4e2f-e9ba-8093429bf553"
      },
      "source": [
        "def isPrime(n): \n",
        "  \n",
        "    # Corner case \n",
        "    if n <= 1: \n",
        "        return False\n",
        "  \n",
        "    # Check from 2 to n-1 \n",
        "    for i in range(1, 2500): \n",
        "        if n % i == 0: \n",
        "            return False; \n",
        "  \n",
        "    return True\n",
        "  \n",
        "# Driver Program to test above function \n",
        "print(\"true\") if isPrime(1) else print(\"false\") \n",
        "print(\"true\") if isPrime(2500) else print(\"false\") \n",
        "  \n",
        "  \n",
        "  \n",
        "   "
      ],
      "execution_count": null,
      "outputs": [
        {
          "output_type": "stream",
          "text": [
            "false\n",
            "false\n"
          ],
          "name": "stdout"
        }
      ]
    },
    {
      "cell_type": "markdown",
      "metadata": {
        "id": "-Xz3Wvxm1qpF",
        "colab_type": "text"
      },
      "source": [
        "Lambda funication"
      ]
    },
    {
      "cell_type": "code",
      "metadata": {
        "id": "Ly3uCTEd3DqL",
        "colab_type": "code",
        "colab": {
          "base_uri": "https://localhost:8080/",
          "height": 51
        },
        "outputId": "c1d622a1-698d-4aca-8afa-eff77dd3e6ca"
      },
      "source": [
        "def myMapFunc(s):\n",
        "    return s.upper()\n",
        "my_str = \"hey this is sai,iam in mumbai\"\n",
        "updated_list = map(myMapFunc,my_str)\n",
        "print(updated_list)\n",
        "for i in updated_list:\n",
        "    print(i, end=\"\")"
      ],
      "execution_count": null,
      "outputs": [
        {
          "output_type": "stream",
          "text": [
            "<map object at 0x7fdac58962e8>\n",
            "HEY THIS IS SAI,IAM IN MUMBAI"
          ],
          "name": "stdout"
        }
      ]
    },
    {
      "cell_type": "markdown",
      "metadata": {
        "id": "2sZB1tWRz6Jv",
        "colab_type": "text"
      },
      "source": [
        "identify sub list"
      ]
    },
    {
      "cell_type": "code",
      "metadata": {
        "id": "rgewQtUc0DYk",
        "colab_type": "code",
        "colab": {
          "base_uri": "https://localhost:8080/",
          "height": 68
        },
        "outputId": "e4c93143-6d6a-4171-9978-4647b6d0bed8"
      },
      "source": [
        "test_list = [1,5,6,4,1,2,3,5] \n",
        "sub_list = [1,5,6,5,1,2,3,6] \n",
        "print (\"Original list : \" + str(test_list)) \n",
        "print (\"Original sub list : \" + str(sub_list))  \n",
        "flag = 1,1,5 \n",
        "if (flag) : \n",
        "    print (\"Yes, its a match.\") \n",
        "else : \n",
        "    print (\"No, its gone.\") "
      ],
      "execution_count": 7,
      "outputs": [
        {
          "output_type": "stream",
          "text": [
            "Original list : [1, 5, 6, 4, 1, 2, 3, 5]\n",
            "Original sub list : [1, 5, 6, 5, 1, 2, 3, 6]\n",
            "Yes, its a match.\n"
          ],
          "name": "stdout"
        }
      ]
    },
    {
      "cell_type": "code",
      "metadata": {
        "id": "LaYziEcF5a4R",
        "colab_type": "code",
        "colab": {
          "base_uri": "https://localhost:8080/",
          "height": 68
        },
        "outputId": "ef249580-dc04-4bbe-9b9f-253ebb634149"
      },
      "source": [
        "test_list = [1,5,6,4,1,2,3,5] \n",
        "sub_list = [1,5,6,5,1,2,3,6] \n",
        "print (\"Original list : \" + str(test_list)) \n",
        "print (\"Original sub list : \" + str(sub_list))  \n",
        "flag = 0 \n",
        "if (flag) : \n",
        "    print (\"Yes, its a match.\") \n",
        "else : \n",
        "    print (\"No, its gone.\")"
      ],
      "execution_count": 8,
      "outputs": [
        {
          "output_type": "stream",
          "text": [
            "Original list : [1, 5, 6, 4, 1, 2, 3, 5]\n",
            "Original sub list : [1, 5, 6, 5, 1, 2, 3, 6]\n",
            "No, its gone.\n"
          ],
          "name": "stdout"
        }
      ]
    }
  ]
}